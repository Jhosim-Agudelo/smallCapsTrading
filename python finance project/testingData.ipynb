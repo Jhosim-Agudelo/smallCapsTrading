{
 "cells": [
  {
   "cell_type": "code",
   "execution_count": 5,
   "metadata": {},
   "outputs": [],
   "source": [
    "from polygon import RESTClient\n",
    "import config\n",
    "import pandas as pd\n",
    "from multiprocessing import Pool"
   ]
  },
  {
   "cell_type": "code",
   "execution_count": null,
   "metadata": {},
   "outputs": [],
   "source": [
    "client = RESTClient(config.API_KEY)\n",
    "\n",
    "\n",
    "api = config.API_KEY\n",
    "ticker = None\n",
    "limit = 1000\n",
    "market = 'stocks'\n",
    "type = 'CS'\n",
    "exchange = 'XNAS'\n",
    "\n",
    "tickers = []\n",
    "for ticker in client.list_tickers(type='CS',market='stocks',limit=1000,exchange='XNAS'):\n",
    "    tickers.append(ticker)\n",
    "    \n",
    "df = pd.DataFrame(tickers)\n",
    "listOfTickers = df['ticker']\n",
    "dflistOfTickers = pd.DataFrame(listOfTickers)\n",
    "\n",
    "marketCaps = []\n",
    "i=0\n",
    "\n",
    "def fetch_market_cap(ticker):\n",
    "    return client.get_ticker_details(ticker=ticker).market_cap\n",
    "\n",
    "\n",
    "# list map seems to be 20 seconds faster\n",
    "marketCaps = list(map(fetch_market_cap, listOfTickers ))\n",
    "\n",
    "#for ticker in listOfTickers:\n",
    "#     marketCaps.append(client.get_ticker_details(ticker=ticker).market_cap)\n",
    "#     i += 1\n",
    "#     print('running',i)\n",
    "\n",
    "dflistOfTickers['marketCap'] = marketCaps\n",
    "dflistOfTickers.to_csv('tickersAndMarketcaps.csv',index=False)\n"
   ]
  },
  {
   "cell_type": "code",
   "execution_count": 6,
   "metadata": {},
   "outputs": [],
   "source": [
    "# No need to run previous section everytime, data is saved as csv on the first run\n",
    "dflistOfTickers = pd.read_csv('tickersAndMarketcaps.csv')"
   ]
  },
  {
   "cell_type": "code",
   "execution_count": 7,
   "metadata": {},
   "outputs": [],
   "source": [
    "dflistOfTickersLt500M = dflistOfTickers[dflistOfTickers['marketCap']<500000000]\n",
    "dflistOfTickersLt500M = dflistOfTickersLt500M.set_index('ticker')"
   ]
  },
  {
   "cell_type": "code",
   "execution_count": 8,
   "metadata": {},
   "outputs": [],
   "source": [
    "dflistOfTickersLt500M.to_csv('tickersLt500M.csv', index =True)"
   ]
  }
 ],
 "metadata": {
  "kernelspec": {
   "display_name": "Python 3",
   "language": "python",
   "name": "python3"
  },
  "language_info": {
   "codemirror_mode": {
    "name": "ipython",
    "version": 3
   },
   "file_extension": ".py",
   "mimetype": "text/x-python",
   "name": "python",
   "nbconvert_exporter": "python",
   "pygments_lexer": "ipython3",
   "version": "3.10.7"
  },
  "orig_nbformat": 4,
  "vscode": {
   "interpreter": {
    "hash": "36b65d1a8845e524d8f533f147b9c1f7c490abab24e6026e321fbb72461885bf"
   }
  }
 },
 "nbformat": 4,
 "nbformat_minor": 2
}
